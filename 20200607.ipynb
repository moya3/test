{
  "nbformat": 4,
  "nbformat_minor": 0,
  "metadata": {
    "colab": {
      "name": "Untitled11.ipynb",
      "provenance": [],
      "authorship_tag": "ABX9TyNDkw66x5qMHrW5Nq2Gt4Zu",
      "include_colab_link": true
    },
    "kernelspec": {
      "name": "python3",
      "display_name": "Python 3"
    }
  },
  "cells": [
    {
      "cell_type": "markdown",
      "metadata": {
        "id": "view-in-github",
        "colab_type": "text"
      },
      "source": [
        "<a href=\"https://colab.research.google.com/github/moya3/test/blob/master/20200607.ipynb\" target=\"_parent\"><img src=\"https://colab.research.google.com/assets/colab-badge.svg\" alt=\"Open In Colab\"/></a>"
      ]
    },
    {
      "cell_type": "code",
      "metadata": {
        "id": "50AL0HJoC4L0",
        "colab_type": "code",
        "outputId": "2dfccc0b-bac9-46b6-a2ac-6f749f808ea0",
        "colab": {
          "base_uri": "https://localhost:8080/",
          "height": 1000
        }
      },
      "source": [
        "import random\n",
        "import pandas as pd\n",
        "import matplotlib.pyplot as plt\n",
        "import random\n",
        "\n",
        "from datetime import datetime, date, timedelta\n",
        "\n",
        "print(list(range(10, 20, 2)))\n",
        "print(round(random.uniform(35.5, 37),1))\n",
        "print([round(random.uniform(35.5, 37),1) for i in range(5)])\n",
        "\n",
        "#今日は何日\n",
        "print(datetime.today())\n",
        "\n",
        "#YYYY/MM/DDで出力\n",
        "print(datetime.today().strftime('%y/%m/%d'))\n",
        "\n",
        "#ある日の曜日をもとめる。\n",
        "dt = '1963/5/30'\n",
        "dt2 = datetime.strptime(dt, '%Y/%m/%d')\n",
        "print (dt2)\n",
        "\n",
        "#strptime使わなくてもできる\n",
        "dt = datetime(1963, 5, 30)\n",
        "print(dt.strftime('%A, %a, %B, %b'))\n",
        "\n",
        "#日付に１を足す\n",
        "\n",
        "today = datetime.today()\n",
        "\n",
        "yesterday = today + timedelta(days=1)\n",
        "print(yesterday)\n",
        "\n",
        "#日付に１を足す（営業日のみ）\n",
        "#２月最終日をもとめる\n",
        "#３月の１日から１引く\n",
        "\n",
        "dt3 = datetime(2020, 3, 1)\n",
        "dt4 = dt3 + timedelta(days=-1)\n",
        "print(dt4)\n",
        "#期間をもとめる。timedeltaを使う。２．relativedeltaを使う\n",
        "#日付に１を足す\n",
        "#今月の最初の日をtodayから出す\n",
        "\n",
        "dt5 = datetime.today().replace(day=1)\n",
        "print(datetime.strftime(dt5, '%Y-%m-%d'))\n",
        "\n",
        "#日時の連続データを作成する\n",
        "\n",
        "df = pd.date_range(start='3/1/2020', end='3/31/2020', freq='D')\n",
        "#print(df)\n",
        "\n",
        "df2 = pd.date_range('20160201','20160301')\n",
        "#print(df2)\n",
        "\n",
        "#データフレームを作ってみる。インデックスにならない。\n",
        "df3 = pd.DataFrame()\n",
        "df3['time'] = pd.date_range('20160201','20160301')\n",
        "print(df3)\n",
        "\n",
        "#[round(random.uniform(35.5, 37),1) for i in range(5)]\n",
        "#df = pd.DataFrame({'value': range(1, 32, 2)},\n",
        "df = pd.DataFrame({'value': [round(random.uniform(35.5, 37),1) for i in range(30)]},\n",
        "                  index=pd.date_range('2020-01-01', '2020-01-30', freq='D'))\n",
        "print(df.head(10))\n",
        "\n",
        "#週で平均をとる\n",
        "print(df.resample('W').mean())\n",
        "#describe関数\n",
        "print(df.describe())\n",
        "#グラフ\n",
        "plt.plot(df['value'])\n",
        "\n",
        "#describe関数で平均、標準偏差がわかったので、それをもとに擬似データを作る。\n",
        "#平均が36.09、標準偏差が0.399のデータを作る\n",
        "import numpy as np\n",
        "s = np.random.normal(36, 0.3, size=10)\n",
        "s = np.round(s,1)\n",
        "s\n"
      ],
      "execution_count": 0,
      "outputs": [
        {
          "output_type": "stream",
          "text": [
            "[10, 12, 14, 16, 18]\n",
            "37.0\n",
            "[36.1, 36.7, 36.0, 36.1, 36.9]\n",
            "2020-06-07 04:33:07.569552\n",
            "20/06/07\n",
            "1963-05-30 00:00:00\n",
            "Thursday, Thu, May, May\n",
            "2020-06-08 04:33:07.569929\n",
            "2020-02-29 00:00:00\n",
            "2020-06-01\n",
            "         time\n",
            "0  2016-02-01\n",
            "1  2016-02-02\n",
            "2  2016-02-03\n",
            "3  2016-02-04\n",
            "4  2016-02-05\n",
            "5  2016-02-06\n",
            "6  2016-02-07\n",
            "7  2016-02-08\n",
            "8  2016-02-09\n",
            "9  2016-02-10\n",
            "10 2016-02-11\n",
            "11 2016-02-12\n",
            "12 2016-02-13\n",
            "13 2016-02-14\n",
            "14 2016-02-15\n",
            "15 2016-02-16\n",
            "16 2016-02-17\n",
            "17 2016-02-18\n",
            "18 2016-02-19\n",
            "19 2016-02-20\n",
            "20 2016-02-21\n",
            "21 2016-02-22\n",
            "22 2016-02-23\n",
            "23 2016-02-24\n",
            "24 2016-02-25\n",
            "25 2016-02-26\n",
            "26 2016-02-27\n",
            "27 2016-02-28\n",
            "28 2016-02-29\n",
            "29 2016-03-01\n",
            "            value\n",
            "2020-01-01   35.6\n",
            "2020-01-02   36.0\n",
            "2020-01-03   36.3\n",
            "2020-01-04   35.5\n",
            "2020-01-05   35.7\n",
            "2020-01-06   36.2\n",
            "2020-01-07   35.5\n",
            "2020-01-08   36.0\n",
            "2020-01-09   36.3\n",
            "2020-01-10   36.0\n",
            "                value\n",
            "2020-01-05  35.820000\n",
            "2020-01-12  36.014286\n",
            "2020-01-19  36.257143\n",
            "2020-01-26  36.342857\n",
            "2020-02-02  36.425000\n",
            "          value\n",
            "count  30.00000\n",
            "mean   36.17000\n",
            "std     0.44268\n",
            "min    35.50000\n",
            "25%    35.75000\n",
            "50%    36.20000\n",
            "75%    36.47500\n",
            "max    37.00000\n"
          ],
          "name": "stdout"
        },
        {
          "output_type": "execute_result",
          "data": {
            "text/plain": [
              "array([35.7, 36.1, 35.7, 35.9, 36. , 35.9, 36.2, 36.3, 36.3, 36.4])"
            ]
          },
          "metadata": {
            "tags": []
          },
          "execution_count": 3
        },
        {
          "output_type": "display_data",
          "data": {
            "image/png": "[encoded data removed]",
            "text/plain": [
              "<Figure size 432x288 with 1 Axes>"
            ]
          },
          "metadata": {
            "tags": [],
            "needs_background": "light"
          }
        }
      ]
    },
    {
      "cell_type": "code",
      "metadata": {
        "id": "hY-93UB_DBLw",
        "colab_type": "code",
        "colab": {}
      },
      "source": [
        ""
      ],
      "execution_count": 0,
      "outputs": []
    }
  ]
}