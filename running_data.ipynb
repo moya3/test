{
 "cells": [
  {
   "cell_type": "code",
   "execution_count": 1,
   "metadata": {},
   "outputs": [],
   "source": [
    "import pandas as pd"
   ]
  },
  {
   "cell_type": "code",
   "execution_count": 2,
   "metadata": {},
   "outputs": [],
   "source": [
    "df_run =pd.read_csv('http://bit.ly/running_data')\n",
    "df_run =df_run[['local_start_time', 'distance', 'duration']]\n",
    "df_run['local_start_time'] = df_run['local_start_time'].apply(lambda x: x.split('T')[0]) + ' ' +  df_run['local_start_time'].apply(lambda x: x.split('T')[1]).apply(lambda x: x.split('.')[0])\n",
    "df_run['local_start_time'] = pd.to_datetime(df_run['local_start_time'])\n",
    "df_run['year'] = df_run.local_start_time.dt.year\n",
    "df_run['month'] = df_run.local_start_time.dt.month\n",
    "#df_run['month2'] = df_run.local_start_time.dt.year  +  df_run.local_start_time.dt.month\n",
    "\n",
    "#month2は年と月を足した項目。他の動画でもっとスマートな項目名を付けていたような気がする。\n",
    "\n",
    "df_run['month2'] =df_run.year.astype(str) + df_run.month.astype(str)\n",
    "df_run['day'] = df_run.local_start_time.dt.day\n",
    "df_run['hour'] = df_run.local_start_time.dt.hour\n",
    "df_run['min'] = df_run.local_start_time.dt.minute\n",
    "df_run['local_end_time'] = df_run.local_start_time + pd.to_timedelta(df_run['duration'], unit= 's')\n"
   ]
  },
  {
   "cell_type": "code",
   "execution_count": 3,
   "metadata": {},
   "outputs": [
    {
     "data": {
      "text/html": [
       "<div>\n",
       "<style scoped>\n",
       "    .dataframe tbody tr th:only-of-type {\n",
       "        vertical-align: middle;\n",
       "    }\n",
       "\n",
       "    .dataframe tbody tr th {\n",
       "        vertical-align: top;\n",
       "    }\n",
       "\n",
       "    .dataframe thead th {\n",
       "        text-align: right;\n",
       "    }\n",
       "</style>\n",
       "<table border=\"1\" class=\"dataframe\">\n",
       "  <thead>\n",
       "    <tr style=\"text-align: right;\">\n",
       "      <th></th>\n",
       "      <th>local_start_time</th>\n",
       "      <th>distance</th>\n",
       "      <th>duration</th>\n",
       "      <th>year</th>\n",
       "      <th>month</th>\n",
       "      <th>month2</th>\n",
       "      <th>day</th>\n",
       "      <th>hour</th>\n",
       "      <th>min</th>\n",
       "      <th>local_end_time</th>\n",
       "    </tr>\n",
       "  </thead>\n",
       "  <tbody>\n",
       "    <tr>\n",
       "      <td>0</td>\n",
       "      <td>2019-12-06 04:42:50</td>\n",
       "      <td>6.684</td>\n",
       "      <td>2296.72</td>\n",
       "      <td>2019</td>\n",
       "      <td>12</td>\n",
       "      <td>201912</td>\n",
       "      <td>6</td>\n",
       "      <td>4</td>\n",
       "      <td>42</td>\n",
       "      <td>2019-12-06 05:21:06.720</td>\n",
       "    </tr>\n",
       "    <tr>\n",
       "      <td>1</td>\n",
       "      <td>2019-12-04 04:50:51</td>\n",
       "      <td>4.010</td>\n",
       "      <td>1357.35</td>\n",
       "      <td>2019</td>\n",
       "      <td>12</td>\n",
       "      <td>201912</td>\n",
       "      <td>4</td>\n",
       "      <td>4</td>\n",
       "      <td>50</td>\n",
       "      <td>2019-12-04 05:13:28.350</td>\n",
       "    </tr>\n",
       "    <tr>\n",
       "      <td>2</td>\n",
       "      <td>2019-11-06 04:45:29</td>\n",
       "      <td>4.000</td>\n",
       "      <td>1303.49</td>\n",
       "      <td>2019</td>\n",
       "      <td>11</td>\n",
       "      <td>201911</td>\n",
       "      <td>6</td>\n",
       "      <td>4</td>\n",
       "      <td>45</td>\n",
       "      <td>2019-11-06 05:07:12.490</td>\n",
       "    </tr>\n",
       "    <tr>\n",
       "      <td>3</td>\n",
       "      <td>2019-11-01 04:46:05</td>\n",
       "      <td>4.029</td>\n",
       "      <td>1282.03</td>\n",
       "      <td>2019</td>\n",
       "      <td>11</td>\n",
       "      <td>201911</td>\n",
       "      <td>1</td>\n",
       "      <td>4</td>\n",
       "      <td>46</td>\n",
       "      <td>2019-11-01 05:07:27.030</td>\n",
       "    </tr>\n",
       "    <tr>\n",
       "      <td>4</td>\n",
       "      <td>2019-10-24 04:43:50</td>\n",
       "      <td>4.039</td>\n",
       "      <td>1346.17</td>\n",
       "      <td>2019</td>\n",
       "      <td>10</td>\n",
       "      <td>201910</td>\n",
       "      <td>24</td>\n",
       "      <td>4</td>\n",
       "      <td>43</td>\n",
       "      <td>2019-10-24 05:06:16.170</td>\n",
       "    </tr>\n",
       "  </tbody>\n",
       "</table>\n",
       "</div>"
      ],
      "text/plain": [
       "     local_start_time  distance  duration  year  month  month2  day  hour  \\\n",
       "0 2019-12-06 04:42:50     6.684   2296.72  2019     12  201912    6     4   \n",
       "1 2019-12-04 04:50:51     4.010   1357.35  2019     12  201912    4     4   \n",
       "2 2019-11-06 04:45:29     4.000   1303.49  2019     11  201911    6     4   \n",
       "3 2019-11-01 04:46:05     4.029   1282.03  2019     11  201911    1     4   \n",
       "4 2019-10-24 04:43:50     4.039   1346.17  2019     10  201910   24     4   \n",
       "\n",
       "   min          local_end_time  \n",
       "0   42 2019-12-06 05:21:06.720  \n",
       "1   50 2019-12-04 05:13:28.350  \n",
       "2   45 2019-11-06 05:07:12.490  \n",
       "3   46 2019-11-01 05:07:27.030  \n",
       "4   43 2019-10-24 05:06:16.170  "
      ]
     },
     "execution_count": 3,
     "metadata": {},
     "output_type": "execute_result"
    }
   ],
   "source": [
    "df_run.head()"
   ]
  },
  {
   "cell_type": "code",
   "execution_count": 81,
   "metadata": {
    "scrolled": false
   },
   "outputs": [
    {
     "data": {
      "text/html": [
       "<div>\n",
       "<style scoped>\n",
       "    .dataframe tbody tr th:only-of-type {\n",
       "        vertical-align: middle;\n",
       "    }\n",
       "\n",
       "    .dataframe tbody tr th {\n",
       "        vertical-align: top;\n",
       "    }\n",
       "\n",
       "    .dataframe thead th {\n",
       "        text-align: right;\n",
       "    }\n",
       "</style>\n",
       "<table border=\"1\" class=\"dataframe\">\n",
       "  <thead>\n",
       "    <tr style=\"text-align: right;\">\n",
       "      <th></th>\n",
       "      <th>local_start_time</th>\n",
       "      <th>distance</th>\n",
       "      <th>duration</th>\n",
       "      <th>year</th>\n",
       "      <th>month</th>\n",
       "      <th>day</th>\n",
       "      <th>hour</th>\n",
       "      <th>min</th>\n",
       "      <th>local_end_time</th>\n",
       "    </tr>\n",
       "    <tr>\n",
       "      <th>month2</th>\n",
       "      <th></th>\n",
       "      <th></th>\n",
       "      <th></th>\n",
       "      <th></th>\n",
       "      <th></th>\n",
       "      <th></th>\n",
       "      <th></th>\n",
       "      <th></th>\n",
       "      <th></th>\n",
       "    </tr>\n",
       "  </thead>\n",
       "  <tbody>\n",
       "    <tr>\n",
       "      <td>201310</td>\n",
       "      <td>4</td>\n",
       "      <td>4</td>\n",
       "      <td>4</td>\n",
       "      <td>4</td>\n",
       "      <td>4</td>\n",
       "      <td>4</td>\n",
       "      <td>4</td>\n",
       "      <td>4</td>\n",
       "      <td>4</td>\n",
       "    </tr>\n",
       "    <tr>\n",
       "      <td>201311</td>\n",
       "      <td>5</td>\n",
       "      <td>5</td>\n",
       "      <td>5</td>\n",
       "      <td>5</td>\n",
       "      <td>5</td>\n",
       "      <td>5</td>\n",
       "      <td>5</td>\n",
       "      <td>5</td>\n",
       "      <td>5</td>\n",
       "    </tr>\n",
       "    <tr>\n",
       "      <td>201312</td>\n",
       "      <td>3</td>\n",
       "      <td>3</td>\n",
       "      <td>3</td>\n",
       "      <td>3</td>\n",
       "      <td>3</td>\n",
       "      <td>3</td>\n",
       "      <td>3</td>\n",
       "      <td>3</td>\n",
       "      <td>3</td>\n",
       "    </tr>\n",
       "    <tr>\n",
       "      <td>20137</td>\n",
       "      <td>4</td>\n",
       "      <td>4</td>\n",
       "      <td>4</td>\n",
       "      <td>4</td>\n",
       "      <td>4</td>\n",
       "      <td>4</td>\n",
       "      <td>4</td>\n",
       "      <td>4</td>\n",
       "      <td>4</td>\n",
       "    </tr>\n",
       "    <tr>\n",
       "      <td>20138</td>\n",
       "      <td>5</td>\n",
       "      <td>5</td>\n",
       "      <td>5</td>\n",
       "      <td>5</td>\n",
       "      <td>5</td>\n",
       "      <td>5</td>\n",
       "      <td>5</td>\n",
       "      <td>5</td>\n",
       "      <td>5</td>\n",
       "    </tr>\n",
       "  </tbody>\n",
       "</table>\n",
       "</div>"
      ],
      "text/plain": [
       "        local_start_time  distance  duration  year  month  day  hour  min  \\\n",
       "month2                                                                      \n",
       "201310                 4         4         4     4      4    4     4    4   \n",
       "201311                 5         5         5     5      5    5     5    5   \n",
       "201312                 3         3         3     3      3    3     3    3   \n",
       "20137                  4         4         4     4      4    4     4    4   \n",
       "20138                  5         5         5     5      5    5     5    5   \n",
       "\n",
       "        local_end_time  \n",
       "month2                  \n",
       "201310               4  \n",
       "201311               5  \n",
       "201312               3  \n",
       "20137                4  \n",
       "20138                5  "
      ]
     },
     "execution_count": 81,
     "metadata": {},
     "output_type": "execute_result"
    }
   ],
   "source": [
    "df_run.groupby('month2').count().head()"
   ]
  },
  {
   "cell_type": "code",
   "execution_count": 82,
   "metadata": {},
   "outputs": [
    {
     "data": {
      "text/html": [
       "<div>\n",
       "<style scoped>\n",
       "    .dataframe tbody tr th:only-of-type {\n",
       "        vertical-align: middle;\n",
       "    }\n",
       "\n",
       "    .dataframe tbody tr th {\n",
       "        vertical-align: top;\n",
       "    }\n",
       "\n",
       "    .dataframe thead th {\n",
       "        text-align: right;\n",
       "    }\n",
       "</style>\n",
       "<table border=\"1\" class=\"dataframe\">\n",
       "  <thead>\n",
       "    <tr style=\"text-align: right;\">\n",
       "      <th></th>\n",
       "      <th>local_start_time</th>\n",
       "      <th>distance</th>\n",
       "      <th>duration</th>\n",
       "      <th>year</th>\n",
       "      <th>month</th>\n",
       "      <th>month2</th>\n",
       "      <th>day</th>\n",
       "      <th>hour</th>\n",
       "      <th>min</th>\n",
       "      <th>local_end_time</th>\n",
       "    </tr>\n",
       "  </thead>\n",
       "  <tbody>\n",
       "    <tr>\n",
       "      <td>0</td>\n",
       "      <td>2019-12-06 04:42:50</td>\n",
       "      <td>6.684</td>\n",
       "      <td>2296.72</td>\n",
       "      <td>2019</td>\n",
       "      <td>12</td>\n",
       "      <td>201912</td>\n",
       "      <td>6</td>\n",
       "      <td>4</td>\n",
       "      <td>42</td>\n",
       "      <td>2019-12-06 05:21:06.720</td>\n",
       "    </tr>\n",
       "    <tr>\n",
       "      <td>1</td>\n",
       "      <td>2019-12-04 04:50:51</td>\n",
       "      <td>4.010</td>\n",
       "      <td>1357.35</td>\n",
       "      <td>2019</td>\n",
       "      <td>12</td>\n",
       "      <td>201912</td>\n",
       "      <td>4</td>\n",
       "      <td>4</td>\n",
       "      <td>50</td>\n",
       "      <td>2019-12-04 05:13:28.350</td>\n",
       "    </tr>\n",
       "    <tr>\n",
       "      <td>2</td>\n",
       "      <td>2019-11-06 04:45:29</td>\n",
       "      <td>4.000</td>\n",
       "      <td>1303.49</td>\n",
       "      <td>2019</td>\n",
       "      <td>11</td>\n",
       "      <td>201911</td>\n",
       "      <td>6</td>\n",
       "      <td>4</td>\n",
       "      <td>45</td>\n",
       "      <td>2019-11-06 05:07:12.490</td>\n",
       "    </tr>\n",
       "    <tr>\n",
       "      <td>3</td>\n",
       "      <td>2019-11-01 04:46:05</td>\n",
       "      <td>4.029</td>\n",
       "      <td>1282.03</td>\n",
       "      <td>2019</td>\n",
       "      <td>11</td>\n",
       "      <td>201911</td>\n",
       "      <td>1</td>\n",
       "      <td>4</td>\n",
       "      <td>46</td>\n",
       "      <td>2019-11-01 05:07:27.030</td>\n",
       "    </tr>\n",
       "    <tr>\n",
       "      <td>4</td>\n",
       "      <td>2019-10-24 04:43:50</td>\n",
       "      <td>4.039</td>\n",
       "      <td>1346.17</td>\n",
       "      <td>2019</td>\n",
       "      <td>10</td>\n",
       "      <td>201910</td>\n",
       "      <td>24</td>\n",
       "      <td>4</td>\n",
       "      <td>43</td>\n",
       "      <td>2019-10-24 05:06:16.170</td>\n",
       "    </tr>\n",
       "  </tbody>\n",
       "</table>\n",
       "</div>"
      ],
      "text/plain": [
       "     local_start_time  distance  duration  year  month  month2  day  hour  \\\n",
       "0 2019-12-06 04:42:50     6.684   2296.72  2019     12  201912    6     4   \n",
       "1 2019-12-04 04:50:51     4.010   1357.35  2019     12  201912    4     4   \n",
       "2 2019-11-06 04:45:29     4.000   1303.49  2019     11  201911    6     4   \n",
       "3 2019-11-01 04:46:05     4.029   1282.03  2019     11  201911    1     4   \n",
       "4 2019-10-24 04:43:50     4.039   1346.17  2019     10  201910   24     4   \n",
       "\n",
       "   min          local_end_time  \n",
       "0   42 2019-12-06 05:21:06.720  \n",
       "1   50 2019-12-04 05:13:28.350  \n",
       "2   45 2019-11-06 05:07:12.490  \n",
       "3   46 2019-11-01 05:07:27.030  \n",
       "4   43 2019-10-24 05:06:16.170  "
      ]
     },
     "execution_count": 82,
     "metadata": {},
     "output_type": "execute_result"
    }
   ],
   "source": [
    "df_run.head()"
   ]
  },
  {
   "cell_type": "code",
   "execution_count": 83,
   "metadata": {
    "scrolled": true
   },
   "outputs": [
    {
     "data": {
      "text/plain": [
       "0.00       4\n",
       "1388.00    2\n",
       "3357.00    1\n",
       "1930.10    1\n",
       "1834.07    1\n",
       "Name: duration, dtype: int64"
      ]
     },
     "execution_count": 83,
     "metadata": {},
     "output_type": "execute_result"
    }
   ],
   "source": [
    "df_run.duration.value_counts().head()"
   ]
  },
  {
   "cell_type": "code",
   "execution_count": 79,
   "metadata": {},
   "outputs": [
    {
     "data": {
      "text/plain": [
       "local_start_time           2019-12-06 04:42:50\n",
       "distance                                10.866\n",
       "duration                                  6559\n",
       "year                                      2019\n",
       "month                                       12\n",
       "month2                                   20199\n",
       "day                                         31\n",
       "hour                                        22\n",
       "min                                         59\n",
       "local_end_time      2019-12-06 05:21:06.720000\n",
       "dtype: object"
      ]
     },
     "execution_count": 79,
     "metadata": {},
     "output_type": "execute_result"
    }
   ],
   "source": [
    "#distanceが60km以上のレコードをdropを使って削除する。indexを使う必要がある。\n",
    "rows_to_drop = df_run.index[df_run[\"distance\"] >= 60]\n",
    "df_run.drop(rows_to_drop).max()\n"
   ]
  },
  {
   "cell_type": "code",
   "execution_count": 80,
   "metadata": {},
   "outputs": [
    {
     "data": {
      "text/plain": [
       "<matplotlib.axes._subplots.AxesSubplot at 0x210de377c48>"
      ]
     },
     "execution_count": 80,
     "metadata": {},
     "output_type": "execute_result"
    },
    {
     "data": {
      "image/png": "[encoded data removed]",
      "text/plain": [
       "<Figure size 432x288 with 1 Axes>"
      ]
     },
     "metadata": {
      "needs_background": "light"
     },
     "output_type": "display_data"
    }
   ],
   "source": [
    "df_run.groupby('month2').count().distance.plot.bar()\n"
   ]
  },
  {
   "cell_type": "code",
   "execution_count": 32,
   "metadata": {
    "scrolled": true
   },
   "outputs": [
    {
     "data": {
      "text/plain": [
       "<matplotlib.axes._subplots.AxesSubplot at 0x210de06ab08>"
      ]
     },
     "execution_count": 32,
     "metadata": {},
     "output_type": "execute_result"
    },
    {
     "data": {
      "image/png": "[encoded data removed]",
      "text/plain": [
       "<Figure size 432x288 with 1 Axes>"
      ]
     },
     "metadata": {
      "needs_background": "light"
     },
     "output_type": "display_data"
    }
   ],
   "source": [
    "df_run.duration.plot(kind='hist')\n",
    "df_run.duration.plot()\n"
   ]
  },
  {
   "cell_type": "code",
   "execution_count": null,
   "metadata": {},
   "outputs": [],
   "source": []
  }
 ],
 "metadata": {
  "kernelspec": {
   "display_name": "Python 3",
   "language": "python",
   "name": "python3"
  },
  "language_info": {
   "codemirror_mode": {
    "name": "ipython",
    "version": 3
   },
   "file_extension": ".py",
   "mimetype": "text/x-python",
   "name": "python",
   "nbconvert_exporter": "python",
   "pygments_lexer": "ipython3",
   "version": "3.7.4"
  }
 },
 "nbformat": 4,
 "nbformat_minor": 2
}
