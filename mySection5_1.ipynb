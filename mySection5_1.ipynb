{
  "nbformat": 4,
  "nbformat_minor": 0,
  "metadata": {
    "kernelspec": {
      "display_name": "Python 3",
      "language": "python",
      "name": "python3"
    },
    "language_info": {
      "codemirror_mode": {
        "name": "ipython",
        "version": 3
      },
      "file_extension": ".py",
      "mimetype": "text/x-python",
      "name": "python",
      "nbconvert_exporter": "python",
      "pygments_lexer": "ipython3",
      "version": "3.6.2"
    },
    "colab": {
      "name": "Section5_1.ipynb",
      "provenance": [],
      "include_colab_link": true
    }
  },
  "cells": [
    {
      "cell_type": "markdown",
      "metadata": {
        "id": "view-in-github",
        "colab_type": "text"
      },
      "source": [
        "<a href=\"https://colab.research.google.com/github/moya3/test/blob/master/mySection5_1.ipynb\" target=\"_parent\"><img src=\"https://colab.research.google.com/assets/colab-badge.svg\" alt=\"Open In Colab\"/></a>"
      ]
    },
    {
      "cell_type": "markdown",
      "metadata": {
        "id": "-O1e9LG2DIiy",
        "colab_type": "text"
      },
      "source": [
        "# PART1 簡単な予測モデルを作ってみよう"
      ]
    },
    {
      "cell_type": "markdown",
      "metadata": {
        "id": "ezv1ZHtkDIiz",
        "colab_type": "text"
      },
      "source": [
        "## おまじない"
      ]
    },
    {
      "cell_type": "code",
      "metadata": {
        "id": "Gq6ugqe1DIi0",
        "colab_type": "code",
        "colab": {}
      },
      "source": [
        "import pandas as pd\n",
        "import numpy as np\n",
        "import matplotlib.pyplot as plt\n",
        "%matplotlib inline\n",
        "from sklearn.linear_model import LinearRegression as LR"
      ],
      "execution_count": 0,
      "outputs": []
    },
    {
      "cell_type": "markdown",
      "metadata": {
        "id": "VW-UZ5C2DIi3",
        "colab_type": "text"
      },
      "source": [
        "## データの読み込み\n",
        "- train.csvとtest.csvとsample.csvの３つのファイルを読み込みましょう\n",
        "- それぞれを読み込んだものは変数はtrain, test, sampleに代入しましょう\n",
        "- sampleを読み込む時は、header=Noneというオプションを忘れないようにしましょう"
      ]
    },
    {
      "cell_type": "code",
      "metadata": {
        "id": "_SLSRWhODIi4",
        "colab_type": "code",
        "colab": {}
      },
      "source": [
        "train = pd.read_csv('train.csv')\n",
        "test = pd.read_csv('test.csv')\n",
        "sample = pd.read_csv('sample.csv', header= None)\n"
      ],
      "execution_count": 0,
      "outputs": []
    },
    {
      "cell_type": "markdown",
      "metadata": {
        "id": "Z7OokH-1DIi7",
        "colab_type": "text"
      },
      "source": [
        "## trainの先頭行を見てみましょう"
      ]
    },
    {
      "cell_type": "code",
      "metadata": {
        "id": "Nq5TayZZDIi8",
        "colab_type": "code",
        "colab": {
          "base_uri": "https://localhost:8080/",
          "height": 300
        },
        "outputId": "7646cb33-d33d-4c5c-a65a-a9248825caca"
      },
      "source": [
        "print(test.shape)\n",
        "print(test.shape)\n",
        "\n",
        "#plt.plot(train['temperature'], train['y'] , markersize=10)\n",
        "plt.scatter(x = train['temperature'], y = train['y'])\n",
        "\n",
        "plt.grid(True)\n",
        "plt.show()"
      ],
      "execution_count": 31,
      "outputs": [
        {
          "output_type": "stream",
          "text": [
            "(40, 11)\n",
            "(40, 11)\n"
          ],
          "name": "stdout"
        },
        {
          "output_type": "display_data",
          "data": {
            "image/png": "[encoded data removed]",
            "text/plain": [
              "<Figure size 432x288 with 1 Axes>"
            ]
          },
          "metadata": {
            "tags": [],
            "needs_background": "light"
          }
        }
      ]
    },
    {
      "cell_type": "markdown",
      "metadata": {
        "id": "9nPSJ5V0DIi-",
        "colab_type": "text"
      },
      "source": [
        "## trainから説明変数と目的変数となるデータを取り出しましょう\n",
        "- 説明変数はtrainからtemperatureを選択し、変数名をtrainXとして代入しましょう\n",
        "- 目的変数はtrainからyを選択し、変数名をyとして代入しましょう"
      ]
    },
    {
      "cell_type": "code",
      "metadata": {
        "id": "l7r1qvUYDIi_",
        "colab_type": "code",
        "colab": {}
      },
      "source": [
        "trainX = train['temperature']\n",
        "y = train['y'] "
      ],
      "execution_count": 0,
      "outputs": []
    },
    {
      "cell_type": "markdown",
      "metadata": {
        "id": "Xj47ssInDIjB",
        "colab_type": "text"
      },
      "source": [
        "## testから説明変数となるデータを取り出しましょう\n",
        "- 説明変数はtrainと同じtemperatureを選択し、変数名をtestXとして代入しましょう"
      ]
    },
    {
      "cell_type": "code",
      "metadata": {
        "id": "MgvMyMssDIjC",
        "colab_type": "code",
        "colab": {}
      },
      "source": [
        "testX = test['temperature']\n"
      ],
      "execution_count": 0,
      "outputs": []
    },
    {
      "cell_type": "markdown",
      "metadata": {
        "id": "0Mn8qhcmDIjE",
        "colab_type": "text"
      },
      "source": [
        "## 単回帰の場合のみ、説明変数に対しておまじないが必要となります\n",
        "- 単回帰の場合はややこしいですが、train,testの説明変数ともに、データの形を整える必要があります\n",
        "- 具体的にはvalues.reshape(-1,1)というおまじないをします\n",
        "- 整えた後、再び変数Xに代入します"
      ]
    },
    {
      "cell_type": "code",
      "metadata": {
        "id": "p5wd8lrVDIjF",
        "colab_type": "code",
        "colab": {}
      },
      "source": [
        "trainX = trainX.values.reshape(-1,1)\n",
        "testX = testX.values.reshape(-1,1)\n"
      ],
      "execution_count": 0,
      "outputs": []
    },
    {
      "cell_type": "markdown",
      "metadata": {
        "id": "tUxZ84VqDIjI",
        "colab_type": "text"
      },
      "source": [
        "## 回帰のモデルの箱を用意しましょう\n",
        "- モデルを作る為にはまず、モデルを表す箱が必ず必要になります\n",
        "- 変数名をmodel1として、LR()を代入しましょう"
      ]
    },
    {
      "cell_type": "code",
      "metadata": {
        "id": "NamZXpDjDIjJ",
        "colab_type": "code",
        "colab": {}
      },
      "source": [
        "model1 = LR()"
      ],
      "execution_count": 0,
      "outputs": []
    },
    {
      "cell_type": "markdown",
      "metadata": {
        "id": "WLVMtfMyDIjL",
        "colab_type": "text"
      },
      "source": [
        "## 単回帰モデルを作りましょう\n",
        "- fit関数を使います\n",
        "- カッコの中に、説明変数、目的変数の順番に書きます"
      ]
    },
    {
      "cell_type": "code",
      "metadata": {
        "id": "esuusuCrDIjM",
        "colab_type": "code",
        "colab": {
          "base_uri": "https://localhost:8080/",
          "height": 34
        },
        "outputId": "15571e0a-cc6b-4dd4-fec6-15dbb8c39801"
      },
      "source": [
        "model1.fit(trainX, y)"
      ],
      "execution_count": 57,
      "outputs": [
        {
          "output_type": "execute_result",
          "data": {
            "text/plain": [
              "LinearRegression(copy_X=True, fit_intercept=True, n_jobs=None, normalize=False)"
            ]
          },
          "metadata": {
            "tags": []
          },
          "execution_count": 57
        }
      ]
    },
    {
      "cell_type": "markdown",
      "metadata": {
        "id": "8TuhNbSHDIjR",
        "colab_type": "text"
      },
      "source": [
        "## 作ったモデルの傾きや切片を確かめてみましょう\n",
        "- 傾きはcoef_を使います\n",
        "- 切片はintercept_を使います"
      ]
    },
    {
      "cell_type": "code",
      "metadata": {
        "id": "suYWpQIlDIjS",
        "colab_type": "code",
        "colab": {
          "base_uri": "https://localhost:8080/",
          "height": 34
        },
        "outputId": "2a1bbf4e-c03e-4b7f-c9ba-61cfd9894803"
      },
      "source": [
        "model1.coef_"
      ],
      "execution_count": 58,
      "outputs": [
        {
          "output_type": "execute_result",
          "data": {
            "text/plain": [
              "array([-2.5023821])"
            ]
          },
          "metadata": {
            "tags": []
          },
          "execution_count": 58
        }
      ]
    },
    {
      "cell_type": "code",
      "metadata": {
        "id": "PdW21Ts2DIjV",
        "colab_type": "code",
        "colab": {
          "base_uri": "https://localhost:8080/",
          "height": 34
        },
        "outputId": "f0806d04-4b9d-4456-f7dc-6f95bb2b9daf"
      },
      "source": [
        "model1.intercept_"
      ],
      "execution_count": 59,
      "outputs": [
        {
          "output_type": "execute_result",
          "data": {
            "text/plain": [
              "134.79948383749922"
            ]
          },
          "metadata": {
            "tags": []
          },
          "execution_count": 59
        }
      ]
    },
    {
      "cell_type": "markdown",
      "metadata": {
        "id": "zOkXWHjGDIjY",
        "colab_type": "text"
      },
      "source": [
        "## 予測をしましょう\n",
        "- predict関数を使います\n",
        "- 予測結果は変数predに代入しましょう"
      ]
    },
    {
      "cell_type": "code",
      "metadata": {
        "id": "ZVlVESKNDIjY",
        "colab_type": "code",
        "colab": {}
      },
      "source": [
        "pred = model1.predict(testX)"
      ],
      "execution_count": 0,
      "outputs": []
    },
    {
      "cell_type": "code",
      "metadata": {
        "id": "Zo2sg_-VDIjc",
        "colab_type": "code",
        "colab": {
          "base_uri": "https://localhost:8080/",
          "height": 193
        },
        "outputId": "c35e6d17-0764-4011-ef93-5b13049e53aa"
      },
      "source": [
        "pred"
      ],
      "execution_count": 61,
      "outputs": [
        {
          "output_type": "execute_result",
          "data": {
            "text/plain": [
              "array([ 84.25136537,  74.99255159,  62.9811175 ,  80.99826864,\n",
              "        79.49683938,  76.49398085,  78.49588653,  69.48731097,\n",
              "        67.73564349,  95.76232304,  88.25517673,  77.24469548,\n",
              "        74.99255159,  84.25136537,  96.01256125,  98.01446693,\n",
              "        88.00493852,  77.99541011,  87.00398568,  85.75279463,\n",
              "        85.75279463,  87.75470031,  87.5044621 ,  94.7613702 ,\n",
              "        86.75374747,  84.50160358,  81.74898327,  98.01446693,\n",
              "        98.76518156,  86.00303284,  95.26184662,  99.01541977,\n",
              "        94.51113199,  97.51399051, 108.52447176,  97.51399051,\n",
              "       106.27232787, 111.7775685 ,  97.01351409,  96.51303767])"
            ]
          },
          "metadata": {
            "tags": []
          },
          "execution_count": 61
        }
      ]
    },
    {
      "cell_type": "markdown",
      "metadata": {
        "id": "pCc5GmxCDIje",
        "colab_type": "text"
      },
      "source": [
        "## sampleの中身を確認してみましょう"
      ]
    },
    {
      "cell_type": "code",
      "metadata": {
        "id": "GVv3ObGaDIjf",
        "colab_type": "code",
        "colab": {
          "base_uri": "https://localhost:8080/",
          "height": 195
        },
        "outputId": "32bbf5dd-2a1a-4bcd-9479-4aa7cf249497"
      },
      "source": [
        "sample.head()"
      ],
      "execution_count": 62,
      "outputs": [
        {
          "output_type": "execute_result",
          "data": {
            "text/html": [
              "<div>\n",
              "<style scoped>\n",
              "    .dataframe tbody tr th:only-of-type {\n",
              "        vertical-align: middle;\n",
              "    }\n",
              "\n",
              "    .dataframe tbody tr th {\n",
              "        vertical-align: top;\n",
              "    }\n",
              "\n",
              "    .dataframe thead th {\n",
              "        text-align: right;\n",
              "    }\n",
              "</style>\n",
              "<table border=\"1\" class=\"dataframe\">\n",
              "  <thead>\n",
              "    <tr style=\"text-align: right;\">\n",
              "      <th></th>\n",
              "      <th>0</th>\n",
              "      <th>1</th>\n",
              "    </tr>\n",
              "  </thead>\n",
              "  <tbody>\n",
              "    <tr>\n",
              "      <th>0</th>\n",
              "      <td>2014-10-1</td>\n",
              "      <td>24</td>\n",
              "    </tr>\n",
              "    <tr>\n",
              "      <th>1</th>\n",
              "      <td>2014-10-2</td>\n",
              "      <td>71</td>\n",
              "    </tr>\n",
              "    <tr>\n",
              "      <th>2</th>\n",
              "      <td>2014-10-3</td>\n",
              "      <td>25</td>\n",
              "    </tr>\n",
              "    <tr>\n",
              "      <th>3</th>\n",
              "      <td>2014-10-6</td>\n",
              "      <td>32</td>\n",
              "    </tr>\n",
              "    <tr>\n",
              "      <th>4</th>\n",
              "      <td>2014-10-7</td>\n",
              "      <td>60</td>\n",
              "    </tr>\n",
              "  </tbody>\n",
              "</table>\n",
              "</div>"
            ],
            "text/plain": [
              "           0   1\n",
              "0  2014-10-1  24\n",
              "1  2014-10-2  71\n",
              "2  2014-10-3  25\n",
              "3  2014-10-6  32\n",
              "4  2014-10-7  60"
            ]
          },
          "metadata": {
            "tags": []
          },
          "execution_count": 62
        }
      ]
    },
    {
      "cell_type": "markdown",
      "metadata": {
        "id": "4tNDHNj2DIjh",
        "colab_type": "text"
      },
      "source": [
        "## sample[1]に予測結果を代入しましょう"
      ]
    },
    {
      "cell_type": "code",
      "metadata": {
        "id": "MCg9PggSDIjh",
        "colab_type": "code",
        "colab": {
          "base_uri": "https://localhost:8080/",
          "height": 52
        },
        "outputId": "d1b6db03-7628-4ef5-a951-f66ac6fc93c4"
      },
      "source": [
        "sample[1]  = pred\n",
        "print(sample.shape)\n",
        "print(pred.shape)\n"
      ],
      "execution_count": 63,
      "outputs": [
        {
          "output_type": "stream",
          "text": [
            "(40, 2)\n",
            "(40,)\n"
          ],
          "name": "stdout"
        }
      ]
    },
    {
      "cell_type": "markdown",
      "metadata": {
        "id": "vNwIlSlxDIjm",
        "colab_type": "text"
      },
      "source": [
        "## sampleをファイルで書きだしましょう\n",
        "- to_csv関数を使います\n",
        "- オプションは３つあり、\"submit1.csv\", index=None, header=Noneを書きます"
      ]
    },
    {
      "cell_type": "code",
      "metadata": {
        "id": "n86lUblIDIjo",
        "colab_type": "code",
        "colab": {}
      },
      "source": [
        "sample.to_csv('submit1.csv', index=None, header=None)"
      ],
      "execution_count": 0,
      "outputs": []
    },
    {
      "cell_type": "markdown",
      "metadata": {
        "id": "68K0FSG8DIjq",
        "colab_type": "text"
      },
      "source": [
        "# 実習\n",
        "1.説明変数をkcalとして、単回帰モデルを作ろう。まず、 trainとtestのkcalに欠損値があるかないか確認しよう\n",
        "- 本当に欠損があるかどうか、head関数を使って確認しよう"
      ]
    },
    {
      "cell_type": "code",
      "metadata": {
        "id": "7AQ7rTsSDIjq",
        "colab_type": "code",
        "colab": {
          "base_uri": "https://localhost:8080/",
          "height": 246
        },
        "outputId": "3b017d85-620d-4544-b2d8-570e0f1126e8"
      },
      "source": [
        "train.isna().sum()"
      ],
      "execution_count": 66,
      "outputs": [
        {
          "output_type": "execute_result",
          "data": {
            "text/plain": [
              "datetime           0\n",
              "y                  0\n",
              "week               0\n",
              "soldout            0\n",
              "name               0\n",
              "kcal              41\n",
              "remarks          186\n",
              "event            193\n",
              "payday           197\n",
              "weather            0\n",
              "precipitation      0\n",
              "temperature        0\n",
              "dtype: int64"
            ]
          },
          "metadata": {
            "tags": []
          },
          "execution_count": 66
        }
      ]
    },
    {
      "cell_type": "code",
      "metadata": {
        "id": "_lcMlbYyDIjt",
        "colab_type": "code",
        "colab": {
          "base_uri": "https://localhost:8080/",
          "height": 228
        },
        "outputId": "5c9696b7-0a4c-491e-8514-ce469eecc3b2"
      },
      "source": [
        "test.isna().sum()"
      ],
      "execution_count": 67,
      "outputs": [
        {
          "output_type": "execute_result",
          "data": {
            "text/plain": [
              "datetime          0\n",
              "week              0\n",
              "soldout           0\n",
              "name              0\n",
              "kcal              4\n",
              "remarks          33\n",
              "event            37\n",
              "payday           38\n",
              "weather           0\n",
              "precipitation     0\n",
              "temperature       0\n",
              "dtype: int64"
            ]
          },
          "metadata": {
            "tags": []
          },
          "execution_count": 67
        }
      ]
    },
    {
      "cell_type": "markdown",
      "metadata": {
        "id": "Ewt1Y8oIDIjv",
        "colab_type": "text"
      },
      "source": [
        "2.trainのkcalの平均値を求め、変数avgに代入しよう"
      ]
    },
    {
      "cell_type": "code",
      "metadata": {
        "id": "wfqT2_AQDIjx",
        "colab_type": "code",
        "colab": {}
      },
      "source": [
        "avg = train['kcal'].mean()\n",
        "\n"
      ],
      "execution_count": 0,
      "outputs": []
    },
    {
      "cell_type": "markdown",
      "metadata": {
        "id": "hHET9BuKDIjz",
        "colab_type": "text"
      },
      "source": [
        "3.変数avgを使って、trainとtestのkcalの欠損値を補間し、それぞれを変数名trainXとtestXに代入してみよう"
      ]
    },
    {
      "cell_type": "code",
      "metadata": {
        "id": "QJ1vgDUYDIj0",
        "colab_type": "code",
        "colab": {}
      },
      "source": [
        "avg\n",
        "trainX = train['kcal'].fillna(avg)\n",
        "testX = test['kcal'].fillna(avg)\n"
      ],
      "execution_count": 0,
      "outputs": []
    },
    {
      "cell_type": "markdown",
      "metadata": {
        "collapsed": true,
        "id": "z6IH_Mr3DIj4",
        "colab_type": "text"
      },
      "source": [
        "4.trainXとtestXをvalues.reshape(-1,1)を使って形を整え、再びtrainX, testXへ代入しよう\n",
        "    1. 3番ではtrainXにはavgで補間されたtrain[\"kcal\"]が代入される\n",
        "    2. 4番では補間されたtrainXにおまじないをかけたものがtrainXに代入されることになる"
      ]
    },
    {
      "cell_type": "code",
      "metadata": {
        "id": "AwJiy-x1DIj4",
        "colab_type": "code",
        "colab": {}
      },
      "source": [
        "trainX = trainX.values.reshape(-1,1)\n",
        "testX = testX.values.reshape(-1,1)\n"
      ],
      "execution_count": 0,
      "outputs": []
    },
    {
      "cell_type": "markdown",
      "metadata": {
        "id": "swrgfSlIDIj6",
        "colab_type": "text"
      },
      "source": [
        "5.trainからyを取り出し、変数yに代入しよう"
      ]
    },
    {
      "cell_type": "code",
      "metadata": {
        "id": "Dus3H1-eDIj6",
        "colab_type": "code",
        "colab": {}
      },
      "source": [
        "y = train['y']"
      ],
      "execution_count": 0,
      "outputs": []
    },
    {
      "cell_type": "markdown",
      "metadata": {
        "collapsed": true,
        "id": "MdqddO3vDIj-",
        "colab_type": "text"
      },
      "source": [
        "6.回帰モデルの箱を変数名model2として用意しよう"
      ]
    },
    {
      "cell_type": "code",
      "metadata": {
        "id": "VXkVDZbdDIj-",
        "colab_type": "code",
        "colab": {}
      },
      "source": [
        "model2=LR()"
      ],
      "execution_count": 0,
      "outputs": []
    },
    {
      "cell_type": "markdown",
      "metadata": {
        "id": "aRx64JqXDIkB",
        "colab_type": "text"
      },
      "source": [
        "7.trainXとyを使って単回帰のモデルを作ろう"
      ]
    },
    {
      "cell_type": "code",
      "metadata": {
        "id": "AAqNOpMtDIkB",
        "colab_type": "code",
        "colab": {
          "base_uri": "https://localhost:8080/",
          "height": 34
        },
        "outputId": "e77be2f9-d75f-491a-e530-38babc7d44e2"
      },
      "source": [
        "model2.fit(trainX, y)"
      ],
      "execution_count": 80,
      "outputs": [
        {
          "output_type": "execute_result",
          "data": {
            "text/plain": [
              "LinearRegression(copy_X=True, fit_intercept=True, n_jobs=None, normalize=False)"
            ]
          },
          "metadata": {
            "tags": []
          },
          "execution_count": 80
        }
      ]
    },
    {
      "cell_type": "markdown",
      "metadata": {
        "id": "7Zf-P4H3DIkF",
        "colab_type": "text"
      },
      "source": [
        "8.作ったモデルの傾きと切片を確認しよう"
      ]
    },
    {
      "cell_type": "code",
      "metadata": {
        "id": "3hGmnta-DIkF",
        "colab_type": "code",
        "colab": {
          "base_uri": "https://localhost:8080/",
          "height": 34
        },
        "outputId": "b1f55c17-8dd8-484e-e0c7-32e5cd1a1f1c"
      },
      "source": [
        "model2.coef_"
      ],
      "execution_count": 81,
      "outputs": [
        {
          "output_type": "execute_result",
          "data": {
            "text/plain": [
              "array([0.13195178])"
            ]
          },
          "metadata": {
            "tags": []
          },
          "execution_count": 81
        }
      ]
    },
    {
      "cell_type": "code",
      "metadata": {
        "id": "II_1XAiFDIkH",
        "colab_type": "code",
        "colab": {
          "base_uri": "https://localhost:8080/",
          "height": 34
        },
        "outputId": "859311e1-b710-4e5b-93f7-c5d98028afbe"
      },
      "source": [
        "model2.intercept_"
      ],
      "execution_count": 82,
      "outputs": [
        {
          "output_type": "execute_result",
          "data": {
            "text/plain": [
              "33.26061577029441"
            ]
          },
          "metadata": {
            "tags": []
          },
          "execution_count": 82
        }
      ]
    },
    {
      "cell_type": "markdown",
      "metadata": {
        "id": "u9JRYu41DIkK",
        "colab_type": "text"
      },
      "source": [
        "9.testXを使って予測をし、予測値を変数pred2に代入しよう"
      ]
    },
    {
      "cell_type": "code",
      "metadata": {
        "id": "bKcBPtNtDIkL",
        "colab_type": "code",
        "colab": {}
      },
      "source": [
        "pred2 = model2.predict(testX)"
      ],
      "execution_count": 0,
      "outputs": []
    },
    {
      "cell_type": "markdown",
      "metadata": {
        "id": "fvHz8OMyDIkN",
        "colab_type": "text"
      },
      "source": [
        "10.sample[1]にpred2を代入しよう"
      ]
    },
    {
      "cell_type": "code",
      "metadata": {
        "id": "18xAUnKsDIkN",
        "colab_type": "code",
        "colab": {}
      },
      "source": [
        "sample[1] = pred2"
      ],
      "execution_count": 0,
      "outputs": []
    },
    {
      "cell_type": "markdown",
      "metadata": {
        "id": "Rsf8u-bMDIkQ",
        "colab_type": "text"
      },
      "source": [
        "11.to_csv関数のindex=Noneがある時とない時の違い、header=Noneがある時とない時の違いは何かを考えてみよう"
      ]
    },
    {
      "cell_type": "markdown",
      "metadata": {
        "id": "lAsaLqqlDIkQ",
        "colab_type": "text"
      },
      "source": [
        "12.sampleをファイル出力し、submit2.csvという投稿用ファイルを作ろう"
      ]
    },
    {
      "cell_type": "code",
      "metadata": {
        "id": "yggIY-otDIkT",
        "colab_type": "code",
        "colab": {}
      },
      "source": [
        "sample.to_csv('submit2.csv', header=None, index=None)"
      ],
      "execution_count": 0,
      "outputs": []
    },
    {
      "cell_type": "markdown",
      "metadata": {
        "id": "JtftZmwQDIkV",
        "colab_type": "text"
      },
      "source": [
        "13.submit2.csvをDeepAnalyticsに投稿して、submit1.csvのスコアを比較してみよう"
      ]
    }
  ]
}