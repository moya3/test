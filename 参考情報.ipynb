{
  "nbformat": 4,
  "nbformat_minor": 0,
  "metadata": {
    "colab": {
      "name": "参考情報",
      "provenance": [],
      "authorship_tag": "ABX9TyPJ0B3hgh5ZMWRumlVCZY/n",
      "include_colab_link": true
    },
    "kernelspec": {
      "name": "python3",
      "display_name": "Python 3"
    }
  },
  "cells": [
    {
      "cell_type": "markdown",
      "metadata": {
        "id": "view-in-github",
        "colab_type": "text"
      },
      "source": [
        "<a href=\"https://colab.research.google.com/github/moya3/test/blob/master/%E5%8F%82%E8%80%83%E6%83%85%E5%A0%B1.ipynb\" target=\"_parent\"><img src=\"https://colab.research.google.com/assets/colab-badge.svg\" alt=\"Open In Colab\"/></a>"
      ]
    },
    {
      "cell_type": "code",
      "metadata": {
        "id": "dqYqkmRyrePZ",
        "colab_type": "code",
        "colab": {}
      },
      "source": [
        ""
      ],
      "execution_count": 0,
      "outputs": []
    },
    {
      "cell_type": "markdown",
      "metadata": {
        "id": "G7GEgUmdrfIH",
        "colab_type": "text"
      },
      "source": [
        "\n",
        "\n",
        "pandasで日付関連の知識を得たいとき読むサイト\n",
        "Python pandas で日時関連のデータ操作をカンタンに\n",
        "http://sinhrks.hatenablog.com/entry/2014/11/09/183603\n",
        "\n",
        "\n",
        "━━━━━━━━━━━━━━━━━━━━━━━━━━━━━━━━━━━━━━━━━━\n",
        "Q.Jupyter Notebook で全ての行を表示する\n",
        "━━━━━━━━━━━━━━━━━━━━━━━━━━━━━━━━━━━━━━━━━━\n",
        "A.\n",
        "import pandas as pd\n",
        "#現在の最大表示行数の出力\n",
        "pd.get_option(\"display.max_rows\")\n",
        "\n",
        "#最大表示行数の指定（ここでは50行を指定）\n",
        "pd.set_option('display.max_rows', 50)\n",
        "\n",
        "https://qiita.com/daifuku_mochi2/items/30258e58750ff8e85d37\n",
        "\n",
        "━━━━━━━━━━━━━━━━━━━━━━━━━━━━━━━━━━━━━━━━━━\n",
        "時刻をファイル名に含ませるサンプルコード\n",
        "━━━━━━━━━━━━━━━━━━━━━━━━━━━━━━━━━━━━━━━━━━\n",
        "\n",
        "##時刻を文字に置き換える\n",
        "import datetime\n",
        "now = datetime.datetime.now()\n",
        "t = 'test_{0:%Y%m%d}.txt'.format(now) #test_20190430\n",
        "#書き込みテキストファイルの指定\n",
        "with open(t,mode='w',encoding='utf-8') as f:\n",
        "f.write(\"test文字列\")\n",
        "print(t)\n",
        "https://karupoimou.hatenablog.com/entry/2019/04/30/194017\n",
        "━━━━━━━━━━━━━━━━━━━━━━━━━━━━━━━━━━━━━━━━━━\n",
        "\n",
        "https://news.mynavi.jp/article/zeropython-61/\n",
        "https://qiita.com/hirohiro77/items/78e26a59c2e45a0fe4e3\n",
        "https://www.sejuku.net/blog/75240\n",
        "https://qiita.com/kinpira/items/383b0fbee6bf229ea03d\n",
        "https://www.amazon.co.jp/%E9%80%80%E5%B1%88%E3%81%AA%E3%81%93%E3%81%A8%E3%81%AFPython%E3%81%AB%E3%82%84%E3%82%89%E3%81%9B%E3%82%88%E3%81%86-%E2%80%95%E3%83%8E%E3%83%B3%E3%83%97%E3%83%AD%E3%82%B0%E3%83%A9%E3%83%9E%E3%83%BC%E3%81%AB%E3%82%82%E3%81%A7%E3%81%8D%E3%82%8B%E8%87%AA%E5%8B%95%E5%8C%96%E5%87%A6%E7%90%86%E3%83%97%E3%83%AD%E3%82%B0%E3%83%A9%E3%83%9F%E3%83%B3%E3%82%B0-Al-Sweigart/dp/487311778X/ref=as_li_ss_il?_encoding=UTF8&pd_rd_i=487311778X&pd_rd_r=6a794326-9ed3-11e8-a6e1-fdd364a300ff&pd_rd_w=jEqXk&pd_rd_wg=3mYGF&pf_rd_i=desktop-dp-sims&pf_rd_m=AN1VRQENFRJN5&pf_rd_p=053a78c4-e34f-47d4-9426-4d23f47a211d&pf_rd_r=WAMCME0WM2FXB87CVYEQ&pf_rd_s=desktop-dp-sims&pf_rd_t=40701&psc=1&refRID=WAMCME0WM2FXB87CVYEQ&linkCode=li2&tag=gammasoft-22&linkId=93b349e884e6abd56feaa8576718acab&language=ja_JP\n",
        "https://valmore.work/what-can-be-automated-with-python/https://valmore.work/what-can-be-automated-with-python/\n",
        "https://dividable.net/python/python-automation/\n",
        "https://qiita.com/Esfahan/items/4655a954e8e7e7c557a4\n",
        "https://qiita.com/banquet_kuma/items/ab30e69b999c2f451de3\n",
        "https://qiita.com/motoki1990/items/a59a09c5966ce52128be\n",
        "\n",
        "\n",
        "\n",
        "\n",
        "\n",
        "https://deepage.net/features/pandas-pivot.html\n",
        "https://qiita.com/takuya66520126/items/0f35390a0098b7a63e80\n",
        "https://note.nkmk.me/python-pandas-stack-unstack-pivot/\n",
        "https://note.nkmk.me/python-e-stat-api-download/\n",
        "https://www.e-stat.go.jp/dbview?sid=0003148500\n",
        "https://note.nkmk.me/python-pandas-pivot-table/\n",
        "https://note.nkmk.me/python-pandas-crosstab/\n",
        "https://qiita.com/propella/items/a9a32b878c77222630ae\n",
        "http://sinhrks.hatenablog.com/entry/2014/11/09/183603\n",
        "http://sinhrks.hatenablog.com/entry/2015/02/04/002258\n",
        "http://sinhrks.hatenablog.com/entry/2015/05/18/233505\n",
        "http://sinhrks.hatenablog.com/entry/2015/11/15/222543\n"
      ]
    },
    {
      "cell_type": "markdown",
      "metadata": {
        "id": "ALTbIvnyrfGL",
        "colab_type": "text"
      },
      "source": [
        ""
      ]
    }
  ]
}